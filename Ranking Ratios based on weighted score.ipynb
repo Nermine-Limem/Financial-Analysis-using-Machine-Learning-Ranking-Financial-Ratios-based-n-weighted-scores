{
 "cells": [
  {
   "cell_type": "code",
   "execution_count": 19,
   "id": "5f3c3ff1-b6e7-4350-abe1-e7bbe8d72416",
   "metadata": {},
   "outputs": [
    {
     "name": "stdout",
     "output_type": "stream",
     "text": [
      "            Bank  Cost-to-Income Ratio  Loan-to-Deposit Ratio  \\\n",
      "2  Attijari bank              6.769450                0.61850   \n",
      "1           UBCI              0.642075                0.87980   \n",
      "0            BNA              0.389100                1.29280   \n",
      "4        BH Bank              0.502984                1.25932   \n",
      "3            ATB              0.536500                0.86320   \n",
      "\n",
      "   Net Interest Margin  Return on Assets  Return on Equity  \\\n",
      "2             0.026193          0.038675          0.161125   \n",
      "1             0.039525          0.011850          0.101150   \n",
      "0             0.025573          0.008530          0.084002   \n",
      "4             0.024829          0.008990          0.096750   \n",
      "3             0.017800         -0.001900         -0.026300   \n",
      "\n",
      "   Capital Adequacy Ratio  Weighted Score  \n",
      "2                2.919250        2.386306  \n",
      "1                0.117000        2.382103  \n",
      "0                0.102785        2.213698  \n",
      "4                0.092101        2.187581  \n",
      "3                0.073300        0.339793  \n"
     ]
    }
   ],
   "source": [
    "import pandas as pd\n",
    "import matplotlib.pyplot as plt\n",
    "\n",
    "# Sample data (replace with your actual data)\n",
    "data = {\n",
    "    'Bank': ['BNA','UBCI','Attijari bank','ATB','BH Bank'],\n",
    "    'Cost-to-Income Ratio': [0.3891,0.642075,6.76945,0.5365,0.502983875],\n",
    "    'Loan-to-Deposit Ratio': [1.29280,0.87980,0.6185,0.8632,1.25932],\n",
    "    'Net Interest Margin': [0.0255725,0.039525,0.0261925,0.0178,0.024829225],\n",
    "    'Return on Assets': [0.00853,0.01185,0.038675,-0.0019,0.00899],\n",
    "    'Return on Equity': [0.0840025,0.10115,0.161125,-0.0263,0.09675],\n",
    "    'Capital Adequacy Ratio': [0.102785,0.117,2.91925,0.0733,0.092101]\n",
    "}\n",
    "\n",
    "df = pd.DataFrame(data)\n",
    "\n",
    "# Define weights for each ratio (adjust as needed)\n",
    "weights = {\n",
    "    'Cost-to-Income Ratio': -1,  # Lower is better\n",
    "    'Loan-to-Deposit Ratio': 1,   # Higher is better\n",
    "    'Net Interest Margin': 1,     # Higher is better\n",
    "    'Return on Assets': 1,       # Higher is better\n",
    "    'Return on Equity': 1,        # Higher is better\n",
    "    'Capital Adequacy Ratio': 1   # Higher is better\n",
    "}\n",
    "\n",
    "# Normalize the data (optional, but can be useful for comparing ratios with different scales)\n",
    "df_normalized = (df.iloc[:, 1:] - df.iloc[:, 1:].min()) / (df.iloc[:, 1:].max() - df.iloc[:, 1:].min())\n",
    "\n",
    "# Calculate the weighted score for each bank\n",
    "df['Weighted Score'] = (df_normalized * weights).sum(axis=1)\n",
    "\n",
    "# Rank the banks based on their weighted scores\n",
    "df_ranked = df.sort_values(by='Weighted Score', ascending=False)\n",
    "\n",
    "print(df_ranked)"
   ]
  },
  {
   "cell_type": "code",
   "execution_count": 21,
   "id": "7a49e371-33ac-4e82-a70a-1ba222dc2cd9",
   "metadata": {},
   "outputs": [
    {
     "data": {
      "image/png": "[encoded data removed]",
      "text/plain": [
       "<Figure size 1000x600 with 1 Axes>"
      ]
     },
     "metadata": {},
     "output_type": "display_data"
    }
   ],
   "source": [
    "\n",
    "plt.figure(figsize=(10, 6))\n",
    "plt.barh(df_ranked['Bank'], df_ranked['Weighted Score'])\n",
    "plt.xlabel('Weighted Score')\n",
    "plt.ylabel('Bank')\n",
    "plt.title('Bank Ranking')\n",
    "plt.show()"
   ]
  }
 ],
 "metadata": {
  "kernelspec": {
   "display_name": "Python 3 (ipykernel)",
   "language": "python",
   "name": "python3"
  },
  "language_info": {
   "codemirror_mode": {
    "name": "ipython",
    "version": 3
   },
   "file_extension": ".py",
   "mimetype": "text/x-python",
   "name": "python",
   "nbconvert_exporter": "python",
   "pygments_lexer": "ipython3",
   "version": "3.11.7"
  }
 },
 "nbformat": 4,
 "nbformat_minor": 5
}
